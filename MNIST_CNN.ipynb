{
 "cells": [
  {
   "cell_type": "markdown",
   "id": "different-arkansas",
   "metadata": {},
   "source": [
    "# CNN Image recognition with MNIST Data"
   ]
  },
  {
   "cell_type": "markdown",
   "id": "seeing-throw",
   "metadata": {},
   "source": [
    "https://towardsdatascience.com/image-recognition-with-machine-learning-on-python-convolutional-neural-network-363073020588"
   ]
  },
  {
   "cell_type": "code",
   "execution_count": 8,
   "id": "embedded-advertising",
   "metadata": {},
   "outputs": [],
   "source": [
    "import tensorflow as tf # tensorflow 2.0\n",
    "from tensorflow import keras\n",
    "from keras.datasets import mnist\n",
    "import numpy as np"
   ]
  },
  {
   "cell_type": "code",
   "execution_count": 9,
   "id": "minute-idaho",
   "metadata": {},
   "outputs": [],
   "source": [
    "#For generating random numbers\n",
    "seed=0\n",
    "np.random.seed(seed) # fix random seed\n",
    "tf.random.set_seed(seed)\n",
    "\n",
    "# input image dimensions\n",
    "classes = 10 # 10 digits\n",
    "img_rows, img_cols = 28, 28 # number of pixels (of MNIST Number Dataset images)\n",
    "\n",
    "# the data, shuffled and split between train and test sets\n",
    "(X_train, Y_train), (X_test, Y_test) = mnist.load_data() #load dataset\n",
    "X_train = X_train.reshape(X_train.shape[0], img_rows, img_cols, 1) #reshaping the training and testing sets into the input tensor form for the CNN\n",
    "X_test = X_test.reshape(X_test.shape[0], img_rows, img_cols, 1)\n",
    "input_shape = (img_rows, img_cols, 1)\n",
    "# cast floats to single precision\n",
    "X_train = X_train.astype('float32')\n",
    "X_test = X_test.astype('float32')\n",
    "# rescale data in interval [0,1]\n",
    "X_train /= 255\n",
    "X_test /= 255\n",
    "Y_train = keras.utils.to_categorical(Y_train, classes)\n",
    "Y_test = keras.utils.to_categorical(Y_test, classes)"
   ]
  },
  {
   "cell_type": "code",
   "execution_count": 10,
   "id": "reduced-globe",
   "metadata": {},
   "outputs": [],
   "source": [
    "from keras.models import Sequential\n",
    "from keras.layers import Dense, Conv2D, Flatten \n",
    "from keras.layers import MaxPooling2D, Dropout"
   ]
  },
  {
   "cell_type": "code",
   "execution_count": null,
   "id": "coordinated-trader",
   "metadata": {},
   "outputs": [],
   "source": [
    "model = Sequential()#add model layers\n",
    "model.add(Conv2D(32, kernel_size=(5, 5),\n",
    "                     activation='relu',\n",
    "                     input_shape=input_shape))\n",
    "model.add(MaxPooling2D(pool_size=(2, 2)))\n",
    "# add second convolutional layer with 20 filters (each filter has trainable weights)\n",
    "model.add(Conv2D(64, (5, 5), activation='relu'))\n",
    "    \n",
    "# add 2D pooling layer\n",
    "model.add(MaxPooling2D(pool_size=(2, 2)))#add pooling layer after each convolution layer to speed up computation\n",
    "    \n",
    "# flatten data\n",
    "model.add(Flatten())\n",
    "    \n",
    "# add a dense all-to-all relu layer\n",
    "model.add(Dense(1024, activation='relu'))\n",
    "    \n",
    "# apply dropout with rate 0.5\n",
    "model.add(Dropout(0.5))\n",
    "    \n",
    "# soft-max layer\n",
    "model.add(Dense(num_classes, activation='softmax'))\n",
    "\n",
    "#compile model using accuracy to measure model performance\n",
    "model.compile(optimizer='adam', loss='categorical_crossentropy', metrics=['accuracy'])\n",
    "#train the model\n",
    "model.fit(X_train, Y_train, validation_data=(X_test, Y_test), epochs=3)\n",
    "# evaluate the model\n",
    "score = model.evaluate(X_test, Y_test, verbose=1)\n",
    "# print performance\n",
    "print()\n",
    "print('Test loss:', score[0])\n",
    "print('Test accuracy:', score[1])"
   ]
  },
  {
   "cell_type": "code",
   "execution_count": 7,
   "id": "enhanced-tennis",
   "metadata": {},
   "outputs": [
    {
     "data": {
      "text/plain": [
       "array([[2.9147848e-10, 2.0906656e-10, 2.9710696e-08, 1.8775113e-08,\n",
       "        1.4290670e-10, 8.3297931e-11, 4.0957841e-14, 9.9999976e-01,\n",
       "        2.5767621e-10, 2.5529954e-07],\n",
       "       [1.6318530e-10, 3.4138836e-10, 1.0000000e+00, 1.3639263e-15,\n",
       "        2.0699587e-13, 4.5845505e-18, 4.2343997e-14, 2.1382940e-14,\n",
       "        3.1793001e-13, 2.2947306e-16],\n",
       "       [2.3275701e-09, 9.9999988e-01, 8.5668219e-09, 2.9098939e-12,\n",
       "        1.9416146e-09, 2.6076885e-10, 1.8811794e-11, 6.3595650e-08,\n",
       "        1.9421787e-08, 1.0373816e-10],\n",
       "       [9.9999988e-01, 2.0804100e-11, 2.1187201e-08, 2.4159796e-11,\n",
       "        4.3135596e-11, 1.9006007e-11, 6.0558109e-10, 2.5553948e-09,\n",
       "        1.8907318e-09, 1.4823678e-07],\n",
       "       [4.1001824e-12, 4.2153028e-10, 2.1293437e-11, 6.0014607e-13,\n",
       "        9.9999058e-01, 1.6673905e-10, 4.1123362e-09, 1.7481669e-10,\n",
       "        4.9167767e-08, 9.4745610e-06],\n",
       "       [1.0958757e-09, 9.9999988e-01, 3.6906140e-09, 7.6451090e-13,\n",
       "        2.3159898e-09, 1.1445370e-11, 5.8804797e-12, 1.2648469e-07,\n",
       "        9.5481445e-09, 8.3210286e-11]], dtype=float32)"
      ]
     },
     "execution_count": 7,
     "metadata": {},
     "output_type": "execute_result"
    }
   ],
   "source": [
    "model.predict(X_test[:6])"
   ]
  },
  {
   "cell_type": "code",
   "execution_count": 11,
   "id": "catholic-distributor",
   "metadata": {},
   "outputs": [
    {
     "data": {
      "text/plain": [
       "array([[0., 0., 0., 0., 0., 0., 0., 1., 0., 0.],\n",
       "       [0., 0., 1., 0., 0., 0., 0., 0., 0., 0.],\n",
       "       [0., 1., 0., 0., 0., 0., 0., 0., 0., 0.],\n",
       "       [1., 0., 0., 0., 0., 0., 0., 0., 0., 0.],\n",
       "       [0., 0., 0., 0., 1., 0., 0., 0., 0., 0.],\n",
       "       [0., 1., 0., 0., 0., 0., 0., 0., 0., 0.]], dtype=float32)"
      ]
     },
     "execution_count": 11,
     "metadata": {},
     "output_type": "execute_result"
    }
   ],
   "source": [
    "#actual results for first 4 images in test set\n",
    "Y_test[:6]"
   ]
  }
 ],
 "metadata": {
  "kernelspec": {
   "display_name": "Python 3",
   "language": "python",
   "name": "python3"
  },
  "language_info": {
   "codemirror_mode": {
    "name": "ipython",
    "version": 3
   },
   "file_extension": ".py",
   "mimetype": "text/x-python",
   "name": "python",
   "nbconvert_exporter": "python",
   "pygments_lexer": "ipython3",
   "version": "3.8.6"
  }
 },
 "nbformat": 4,
 "nbformat_minor": 5
}
